{
  "nbformat": 4,
  "nbformat_minor": 0,
  "metadata": {
    "colab": {
      "provenance": [],
      "include_colab_link": true
    },
    "kernelspec": {
      "name": "python3",
      "display_name": "Python 3"
    },
    "language_info": {
      "name": "python"
    }
  },
  "cells": [
    {
      "cell_type": "markdown",
      "metadata": {
        "id": "view-in-github",
        "colab_type": "text"
      },
      "source": [
        "<a href=\"https://colab.research.google.com/github/Vigash14120/CNN-TRAIL/blob/main/Untitled4.ipynb\" target=\"_parent\"><img src=\"https://colab.research.google.com/assets/colab-badge.svg\" alt=\"Open In Colab\"/></a>"
      ]
    },
    {
      "cell_type": "markdown",
      "source": [
        "There are some empirically-derived rules-of-thumb, of these, the most commonly relied on are:\n",
        "\n",
        "The optimal size of the hidden layer is usually between the size of the input and size of the output layers.\n",
        "The number of hidden neurons should be 2/3 the size of the input layer, plus the size of the output layer.\n",
        "The number of hidden neurons should be less than twice the size of the input layer.\n",
        "These three rules provide a starting point for you to consider. Ultimately, the selection of an architecture for your neural network will come down to trial and error."
      ],
      "metadata": {
        "id": "xhwyuiVSZVUZ"
      }
    },
    {
      "cell_type": "code",
      "execution_count": 1,
      "metadata": {
        "id": "kgqJo1sMOVQa"
      },
      "outputs": [],
      "source": [
        "import tensorflow as tf"
      ]
    },
    {
      "cell_type": "code",
      "source": [],
      "metadata": {
        "id": "fyi6hpvJPCU8"
      },
      "execution_count": null,
      "outputs": []
    }
  ]
}