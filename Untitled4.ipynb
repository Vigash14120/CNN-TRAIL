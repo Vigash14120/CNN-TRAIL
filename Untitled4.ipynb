{
  "nbformat": 4,
  "nbformat_minor": 0,
  "metadata": {
    "colab": {
      "provenance": [],
      "include_colab_link": true
    },
    "kernelspec": {
      "name": "python3",
      "display_name": "Python 3"
    },
    "language_info": {
      "name": "python"
    }
  },
  "cells": [
    {
      "cell_type": "markdown",
      "metadata": {
        "id": "view-in-github",
        "colab_type": "text"
      },
      "source": [
        "<a href=\"https://colab.research.google.com/github/Vigash14120/CNN-TRAIL/blob/main/Untitled4.ipynb\" target=\"_parent\"><img src=\"https://colab.research.google.com/assets/colab-badge.svg\" alt=\"Open In Colab\"/></a>"
      ]
    },
    {
      "cell_type": "markdown",
      "source": [
        "There are some empirically-derived rules-of-thumb, of these, the most commonly relied on are:\n",
        "\n",
        "The optimal size of the hidden layer is usually between the size of the input and size of the output layers.\n",
        "The number of hidden neurons should be 2/3 the size of the input layer, plus the size of the output layer.\n",
        "The number of hidden neurons should be less than twice the size of the input layer.\n",
        "These three rules provide a starting point for you to consider. Ultimately, the selection of an architecture for your neural network will come down to trial and error."
      ],
      "metadata": {
        "id": "xhwyuiVSZVUZ"
      }
    },
    {
      "cell_type": "code",
      "execution_count": 1,
      "metadata": {
        "id": "kgqJo1sMOVQa"
      },
      "outputs": [],
      "source": []
    },
    {
      "cell_type": "code",
      "source": [],
      "metadata": {
        "id": "55lmPrCLZ2IY"
      },
      "execution_count": null,
      "outputs": []
    },
    {
      "cell_type": "markdown",
      "source": [
        "there is no perfect rule to decide how many neurons in a hidden layer or how many hidden layers in CNN. let's take an example:- suppose you want to classify 100 different classes from your datasets. you can't take 1 hidden layer and 64 or 32\n",
        "neuron's for that.you must take large (maybe greater then 10 ) amount of hidden layer and each layer you can take randomly 32, 64,128,256 (if neurons are in 2^n multiple it must be good for your network).for 2 class (dog & cat ) classifications you can\n",
        "take 2-3 hidden layers and( depends upon your choice 32, 64,128,256) neurons for that.\n",
        "thanks."
      ],
      "metadata": {
        "id": "3svRmb1JaGp3"
      }
    },
    {
      "cell_type": "code",
      "source": [],
      "metadata": {
        "id": "fyi6hpvJPCU8"
      },
      "execution_count": null,
      "outputs": []
    },
    {
      "cell_type": "markdown",
      "source": [
        "https://www.youtube.com/watch?v=YhatZb5SzE0\n",
        "\n",
        "https://journalofbigdata.springeropen.com/articles/10.1186/s40537-021-00444-8"
      ],
      "metadata": {
        "id": "G8Mc9iA4cuJM"
      }
    },
    {
      "cell_type": "code",
      "source": [],
      "metadata": {
        "id": "EfqMIVWPctsF"
      },
      "execution_count": null,
      "outputs": []
    }
  ]
}