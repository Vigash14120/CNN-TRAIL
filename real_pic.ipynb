{
  "nbformat": 4,
  "nbformat_minor": 0,
  "metadata": {
    "colab": {
      "provenance": [],
      "authorship_tag": "ABX9TyOqTZIxtO/ht2hccMe4+D3q",
      "include_colab_link": true
    },
    "kernelspec": {
      "name": "python3",
      "display_name": "Python 3"
    },
    "language_info": {
      "name": "python"
    }
  },
  "cells": [
    {
      "cell_type": "markdown",
      "metadata": {
        "id": "view-in-github",
        "colab_type": "text"
      },
      "source": [
        "<a href=\"https://colab.research.google.com/github/Vigash14120/CNN-TRAIL/blob/main/real_pic.ipynb\" target=\"_parent\"><img src=\"https://colab.research.google.com/assets/colab-badge.svg\" alt=\"Open In Colab\"/></a>"
      ]
    },
    {
      "cell_type": "code",
      "execution_count": 2,
      "metadata": {
        "id": "YQioYX8Rep7z"
      },
      "outputs": [],
      "source": [
        "!wget https://upload.wikimedia.org/wikipedia/commons/4/41/Sunflower_from_Silesia2.jpg -o p1.jpg"
      ]
    },
    {
      "cell_type": "code",
      "source": [
        "import cv2\n",
        "import numpy as np\n",
        "from google.colab.patches import cv2_imshow  ##patch for notebook style editors as native module wont work here"
      ],
      "metadata": {
        "id": "es8IzIPvgAnD"
      },
      "execution_count": 3,
      "outputs": []
    },
    {
      "cell_type": "code",
      "source": [
        "\n",
        "img1 = cv2.imread('/content/p1.jpg')"
      ],
      "metadata": {
        "id": "Q4eBAUk1hhkd"
      },
      "execution_count": 4,
      "outputs": []
    },
    {
      "cell_type": "code",
      "source": [
        "cv2_imshow(img1)"
      ],
      "metadata": {
        "id": "hQmqlIDiiFgM",
        "colab": {
          "base_uri": "https://localhost:8080/",
          "height": 263
        },
        "outputId": "cd5bb748-23da-49f5-bc92-7acb91800760"
      },
      "execution_count": 5,
      "outputs": [
        {
          "output_type": "error",
          "ename": "AttributeError",
          "evalue": "'NoneType' object has no attribute 'clip'",
          "traceback": [
            "\u001b[0;31m---------------------------------------------------------------------------\u001b[0m",
            "\u001b[0;31mAttributeError\u001b[0m                            Traceback (most recent call last)",
            "\u001b[0;32m<ipython-input-5-cd06bf22a69e>\u001b[0m in \u001b[0;36m<cell line: 0>\u001b[0;34m()\u001b[0m\n\u001b[0;32m----> 1\u001b[0;31m \u001b[0mcv2_imshow\u001b[0m\u001b[0;34m(\u001b[0m\u001b[0mimg1\u001b[0m\u001b[0;34m)\u001b[0m\u001b[0;34m\u001b[0m\u001b[0;34m\u001b[0m\u001b[0m\n\u001b[0m",
            "\u001b[0;32m/usr/local/lib/python3.11/dist-packages/google/colab/patches/__init__.py\u001b[0m in \u001b[0;36mcv2_imshow\u001b[0;34m(a)\u001b[0m\n\u001b[1;32m     16\u001b[0m       \u001b[0;34m(\u001b[0m\u001b[0mN\u001b[0m\u001b[0;34m,\u001b[0m \u001b[0mM\u001b[0m\u001b[0;34m,\u001b[0m \u001b[0;36m4\u001b[0m\u001b[0;34m)\u001b[0m \u001b[0;32mis\u001b[0m \u001b[0man\u001b[0m \u001b[0mNxM\u001b[0m \u001b[0mBGRA\u001b[0m \u001b[0mcolor\u001b[0m \u001b[0mimage\u001b[0m\u001b[0;34m.\u001b[0m\u001b[0;34m\u001b[0m\u001b[0;34m\u001b[0m\u001b[0m\n\u001b[1;32m     17\u001b[0m   \"\"\"\n\u001b[0;32m---> 18\u001b[0;31m   \u001b[0ma\u001b[0m \u001b[0;34m=\u001b[0m \u001b[0ma\u001b[0m\u001b[0;34m.\u001b[0m\u001b[0mclip\u001b[0m\u001b[0;34m(\u001b[0m\u001b[0;36m0\u001b[0m\u001b[0;34m,\u001b[0m \u001b[0;36m255\u001b[0m\u001b[0;34m)\u001b[0m\u001b[0;34m.\u001b[0m\u001b[0mastype\u001b[0m\u001b[0;34m(\u001b[0m\u001b[0;34m'uint8'\u001b[0m\u001b[0;34m)\u001b[0m\u001b[0;34m\u001b[0m\u001b[0;34m\u001b[0m\u001b[0m\n\u001b[0m\u001b[1;32m     19\u001b[0m   \u001b[0;31m# cv2 stores colors as BGR; convert to RGB\u001b[0m\u001b[0;34m\u001b[0m\u001b[0;34m\u001b[0m\u001b[0m\n\u001b[1;32m     20\u001b[0m   \u001b[0;32mif\u001b[0m \u001b[0ma\u001b[0m\u001b[0;34m.\u001b[0m\u001b[0mndim\u001b[0m \u001b[0;34m==\u001b[0m \u001b[0;36m3\u001b[0m\u001b[0;34m:\u001b[0m\u001b[0;34m\u001b[0m\u001b[0;34m\u001b[0m\u001b[0m\n",
            "\u001b[0;31mAttributeError\u001b[0m: 'NoneType' object has no attribute 'clip'"
          ]
        }
      ]
    },
    {
      "cell_type": "code",
      "source": [
        "img1.shape"
      ],
      "metadata": {
        "id": "wR4gY8dXiJ7h",
        "colab": {
          "base_uri": "https://localhost:8080/",
          "height": 141
        },
        "outputId": "46513c90-75f2-4e5b-f4cd-109431cbdb45"
      },
      "execution_count": 6,
      "outputs": [
        {
          "output_type": "error",
          "ename": "AttributeError",
          "evalue": "'NoneType' object has no attribute 'shape'",
          "traceback": [
            "\u001b[0;31m---------------------------------------------------------------------------\u001b[0m",
            "\u001b[0;31mAttributeError\u001b[0m                            Traceback (most recent call last)",
            "\u001b[0;32m<ipython-input-6-fab6b2795e0f>\u001b[0m in \u001b[0;36m<cell line: 0>\u001b[0;34m()\u001b[0m\n\u001b[0;32m----> 1\u001b[0;31m \u001b[0mimg1\u001b[0m\u001b[0;34m.\u001b[0m\u001b[0mshape\u001b[0m\u001b[0;34m\u001b[0m\u001b[0;34m\u001b[0m\u001b[0m\n\u001b[0m",
            "\u001b[0;31mAttributeError\u001b[0m: 'NoneType' object has no attribute 'shape'"
          ]
        }
      ]
    },
    {
      "cell_type": "code",
      "source": [
        "img2 = cv2.imread('/content/p2.jpg')"
      ],
      "metadata": {
        "id": "rsSM7VO2i4CA"
      },
      "execution_count": null,
      "outputs": []
    },
    {
      "cell_type": "code",
      "source": [
        "cv2_imshow(img2)"
      ],
      "metadata": {
        "id": "jyKAQa4Ki7ZJ"
      },
      "execution_count": null,
      "outputs": []
    },
    {
      "cell_type": "code",
      "source": [
        "img2.shape"
      ],
      "metadata": {
        "id": "kIfO9aDAjCRd"
      },
      "execution_count": null,
      "outputs": []
    },
    {
      "cell_type": "code",
      "source": [
        "cv2_imshow(cv2.cvtColor(img1, cv2.COLOR_BGR2RGB))"
      ],
      "metadata": {
        "id": "07QWwAAqj6Yk"
      },
      "execution_count": null,
      "outputs": []
    },
    {
      "cell_type": "code",
      "source": [
        "img1 = cv2.resize(img1,(400,400))\n",
        "img2 = cv2.resize(img2,(400,400))\n",
        "cv2_imshow(img1)\n",
        "cv2_imshow(img2)"
      ],
      "metadata": {
        "id": "jbxGOQnllC7w"
      },
      "execution_count": null,
      "outputs": []
    },
    {
      "cell_type": "code",
      "source": [
        "img1.shape"
      ],
      "metadata": {
        "id": "cRNYtKRXl83R"
      },
      "execution_count": null,
      "outputs": []
    },
    {
      "cell_type": "code",
      "source": [
        "###image blur\n",
        "img1_blur = cv2.blur(img1,(10,10))\n",
        "cv2_imshow(img1_blur)"
      ],
      "metadata": {
        "id": "PzlGBo1zmH5I"
      },
      "execution_count": null,
      "outputs": []
    },
    {
      "cell_type": "code",
      "source": [
        "###blur using filters\n",
        "filter1 = np.array([[0.0625,0.125,0.0625],\n",
        "                    [0.125,0.25,0.125],\n",
        "                    [0.0625,0.125,0.0625]])\n",
        "#3x3 gaussian blur"
      ],
      "metadata": {
        "id": "gMV5R3h4mnO-"
      },
      "execution_count": null,
      "outputs": []
    },
    {
      "cell_type": "code",
      "source": [
        "op = cv2.filter2D(img1,-1,filter1)\n",
        "cv2_imshow(op)"
      ],
      "metadata": {
        "id": "mq17oJ4WpRP4"
      },
      "execution_count": null,
      "outputs": []
    },
    {
      "cell_type": "code",
      "source": [
        "##sharpening the image\n",
        "filter2 = np.array([[0,-1,0],\n",
        "                   [-1,5,-1],\n",
        "                   [0,-1,0,]])"
      ],
      "metadata": {
        "id": "XeiSQp1VqliZ"
      },
      "execution_count": null,
      "outputs": []
    },
    {
      "cell_type": "code",
      "source": [
        "op2 = cv2.filter2D(img1,-1,filter2)\n",
        "cv2_imshow(op2)"
      ],
      "metadata": {
        "id": "LOq-vQC9q8QP"
      },
      "execution_count": null,
      "outputs": []
    },
    {
      "cell_type": "code",
      "source": [
        "import numpy as np\n",
        "\n",
        "i = np.ones([200,200,3])*255\n",
        "cv2.line(i,(0,20),(180,200),(0,0,255),2)\n",
        "cv2_imshow(i)"
      ],
      "metadata": {
        "id": "IFuN61wQuxNT"
      },
      "execution_count": null,
      "outputs": []
    },
    {
      "cell_type": "code",
      "source": [
        "i = np.ones([200,200,3])*200\n",
        "cv2.line(i,(0,0),(200,200),(0,0,255),2)\n",
        "cv2.line(i,(200,0),(0,200),(222,0,255),2)\n",
        "cv2.circle(i,(100,100),75,(255,0,0),2)\n",
        "cv2.line(i,(100,0),(100,200),(255,255,69),2)\n",
        "cv2.circle(i,(50,50),50,(69,96,96),)\n",
        "cv2.rectangle(i,(20,20),(180,180),(100,200,0),2)\n",
        "cv2_imshow(i)"
      ],
      "metadata": {
        "id": "8PV4gplNx3lz"
      },
      "execution_count": null,
      "outputs": []
    },
    {
      "cell_type": "code",
      "source": [
        "i = np.ones([200,200,3])*200\n",
        "cv2.line(i,(0,0),(200,200),(0,0,255),2)\n",
        "cv2.line(i,(200,0),(0,200),(242,0,255),2)\n",
        "cv2.circle(i,(100,100),75,(255,0,0),2)\n",
        "cv2.line(i,(100,0),(100,200),(255,255,69),2)\n",
        "cv2.circle(i,(50,50),50,(69,96,96),)\n",
        "cv2.rectangle(i,(20,20),(110,180),(100,200,0),2)\n",
        "cv2_imshow(i)"
      ],
      "metadata": {
        "id": "3kZwCA_NyTYr"
      },
      "execution_count": null,
      "outputs": []
    },
    {
      "cell_type": "code",
      "source": [
        "i = np.ones([200,200,3])*200\n",
        "cv2.line(i,(0,0),(200,200),(0,0,255),2)\n",
        "cv2.line(i,(00,0),(0,200),(242,0,255),2)\n",
        "cv2.circle(i,(10,100),75,(255,0,11),2)\n",
        "cv2.line(i,(100,0),(100,200),(255,25,69),2)\n",
        "cv2.circle(i,(150,50),50,(69,196,96),)\n",
        "cv2.rectangle(i,(20,20),(110,180),(100,200,0),2)\n",
        "cv2_imshow(i)"
      ],
      "metadata": {
        "colab": {
          "base_uri": "https://localhost:8080/",
          "height": 217
        },
        "id": "MCPgl2d_re5Y",
        "outputId": "0f675b4d-2d4f-439e-b514-d242e7736f89"
      },
      "execution_count": 7,
      "outputs": [
        {
          "output_type": "display_data",
          "data": {
            "text/plain": [
              "<PIL.Image.Image image mode=RGB size=200x200>"
            ],
            "image/png": "[encoded data removed]",
            "image/jpeg": "[encoded data removed]"
          },
          "metadata": {}
        }
      ]
    },
    {
      "cell_type": "code",
      "source": [
        "i = np.ones([20,200,3])*200\n",
        "cv2.line(i,(0,0),(200,200),(0,0,255),2)\n",
        "cv2.line(i,(00,0),(0,200),(22,0,255),2)\n",
        "cv2.circle(i,(10,100),75,(255,0,11),2)\n",
        "cv2.line(i,(100,0),(100,200),(155,25,69),2)\n",
        "cv2.circle(i,(150,50),50,(69,196,96),)\n",
        "cv2.rectangle(i,(120,20),(210,180),(100,200,0),2)\n",
        "cv2_imshow(i)"
      ],
      "metadata": {
        "colab": {
          "base_uri": "https://localhost:8080/",
          "height": 37
        },
        "id": "LI2cdNz2sH0c",
        "outputId": "d304cc6f-ef42-4621-aa60-5b54e3fcb591"
      },
      "execution_count": 8,
      "outputs": [
        {
          "output_type": "display_data",
          "data": {
            "text/plain": [
              "<PIL.Image.Image image mode=RGB size=200x20>"
            ],
            "image/png": "[encoded data removed]",
            "image/jpeg": "[encoded data removed]"
          },
          "metadata": {}
        }
      ]
    },
    {
      "cell_type": "code",
      "source": [
        "i = np.ones([20,200,3])*200\n",
        "cv2.line(i,(0,0),(200,200),(0,0,255),2)\n",
        "cv2.line(i,(00,0),(0,200),(22,0,255),2)\n",
        "cv2.circle(i,(10,100),75,(255,0,11),2)\n",
        "cv2.line(i,(100,0),(100,200),(155,25,69),2)\n",
        "cv2.circle(i,(250,50),50,(169,196,96),)\n",
        "cv2.rectangle(i,(120,20),(210,180),(100,200,0),2)\n",
        "cv2_imshow(i)"
      ],
      "metadata": {
        "colab": {
          "base_uri": "https://localhost:8080/",
          "height": 37
        },
        "id": "c97_cE06sVIs",
        "outputId": "5ae5bdfb-24d4-4e24-d1ce-32c7e418a49d"
      },
      "execution_count": 9,
      "outputs": [
        {
          "output_type": "display_data",
          "data": {
            "text/plain": [
              "<PIL.Image.Image image mode=RGB size=200x20>"
            ],
            "image/png": "[encoded data removed]",
            "image/jpeg": "[encoded data removed]"
          },
          "metadata": {}
        }
      ]
    }
  ]
}