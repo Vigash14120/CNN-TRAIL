{
  "nbformat": 4,
  "nbformat_minor": 0,
  "metadata": {
    "colab": {
      "provenance": [],
      "authorship_tag": "ABX9TyPv2tJoHsb+cLmVmQt0XAxb",
      "include_colab_link": true
    },
    "kernelspec": {
      "name": "python3",
      "display_name": "Python 3"
    },
    "language_info": {
      "name": "python"
    }
  },
  "cells": [
    {
      "cell_type": "markdown",
      "metadata": {
        "id": "view-in-github",
        "colab_type": "text"
      },
      "source": [
        "<a href=\"https://colab.research.google.com/github/Vigash14120/CNN-TRAIL/blob/main/real_pic.ipynb\" target=\"_parent\"><img src=\"https://colab.research.google.com/assets/colab-badge.svg\" alt=\"Open In Colab\"/></a>"
      ]
    },
    {
      "cell_type": "code",
      "execution_count": 2,
      "metadata": {
        "id": "YQioYX8Rep7z"
      },
      "outputs": [],
      "source": [
        "!wget https://upload.wikimedia.org/wikipedia/commons/4/41/Sunflower_from_Silesia2.jpg -o p1.jpg"
      ]
    },
    {
      "cell_type": "code",
      "source": [
        "import cv2\n",
        "import numpy as np\n",
        "from google.colab.patches import cv2_imshow  ##patch for notebook style editors as native module wont work here"
      ],
      "metadata": {
        "id": "es8IzIPvgAnD"
      },
      "execution_count": 4,
      "outputs": []
    },
    {
      "cell_type": "code",
      "source": [
        "\n",
        "img1 = cv2.imread('/content/p1.jpg')"
      ],
      "metadata": {
        "id": "Q4eBAUk1hhkd"
      },
      "execution_count": null,
      "outputs": []
    },
    {
      "cell_type": "code",
      "source": [
        "cv2_imshow(img1)"
      ],
      "metadata": {
        "id": "hQmqlIDiiFgM"
      },
      "execution_count": null,
      "outputs": []
    },
    {
      "cell_type": "code",
      "source": [
        "img1.shape"
      ],
      "metadata": {
        "id": "wR4gY8dXiJ7h"
      },
      "execution_count": null,
      "outputs": []
    },
    {
      "cell_type": "code",
      "source": [
        "img2 = cv2.imread('/content/p2.jpg')"
      ],
      "metadata": {
        "id": "rsSM7VO2i4CA"
      },
      "execution_count": null,
      "outputs": []
    },
    {
      "cell_type": "code",
      "source": [
        "cv2_imshow(img2)"
      ],
      "metadata": {
        "id": "jyKAQa4Ki7ZJ"
      },
      "execution_count": null,
      "outputs": []
    },
    {
      "cell_type": "code",
      "source": [
        "img2.shape"
      ],
      "metadata": {
        "id": "kIfO9aDAjCRd"
      },
      "execution_count": null,
      "outputs": []
    },
    {
      "cell_type": "code",
      "source": [
        "cv2_imshow(cv2.cvtColor(img1, cv2.COLOR_BGR2RGB))"
      ],
      "metadata": {
        "id": "07QWwAAqj6Yk"
      },
      "execution_count": null,
      "outputs": []
    },
    {
      "cell_type": "code",
      "source": [
        "img1 = cv2.resize(img1,(400,400))\n",
        "img2 = cv2.resize(img2,(400,400))\n",
        "cv2_imshow(img1)\n",
        "cv2_imshow(img2)"
      ],
      "metadata": {
        "id": "jbxGOQnllC7w"
      },
      "execution_count": null,
      "outputs": []
    },
    {
      "cell_type": "code",
      "source": [
        "img1.shape"
      ],
      "metadata": {
        "id": "cRNYtKRXl83R"
      },
      "execution_count": null,
      "outputs": []
    },
    {
      "cell_type": "code",
      "source": [
        "###image blur\n",
        "img1_blur = cv2.blur(img1,(10,10))\n",
        "cv2_imshow(img1_blur)"
      ],
      "metadata": {
        "id": "PzlGBo1zmH5I"
      },
      "execution_count": null,
      "outputs": []
    },
    {
      "cell_type": "code",
      "source": [
        "###blur using filters\n",
        "filter1 = np.array([[0.0625,0.125,0.0625],\n",
        "                    [0.125,0.25,0.125],\n",
        "                    [0.0625,0.125,0.0625]])\n",
        "#3x3 gaussian blur"
      ],
      "metadata": {
        "id": "gMV5R3h4mnO-"
      },
      "execution_count": null,
      "outputs": []
    },
    {
      "cell_type": "code",
      "source": [
        "op = cv2.filter2D(img1,-1,filter1)\n",
        "cv2_imshow(op)"
      ],
      "metadata": {
        "id": "mq17oJ4WpRP4"
      },
      "execution_count": null,
      "outputs": []
    },
    {
      "cell_type": "code",
      "source": [
        "##sharpening the image\n",
        "filter2 = np.array([[0,-1,0],\n",
        "                   [-1,5,-1],\n",
        "                   [0,-1,0,]])"
      ],
      "metadata": {
        "id": "XeiSQp1VqliZ"
      },
      "execution_count": null,
      "outputs": []
    },
    {
      "cell_type": "code",
      "source": [
        "op2 = cv2.filter2D(img1,-1,filter2)\n",
        "cv2_imshow(op2)"
      ],
      "metadata": {
        "id": "LOq-vQC9q8QP"
      },
      "execution_count": null,
      "outputs": []
    },
    {
      "cell_type": "code",
      "source": [
        "import numpy as np\n",
        "\n",
        "i = np.ones([200,200,3])*255\n",
        "cv2.line(i,(0,20),(180,200),(0,0,255),2)\n",
        "cv2_imshow(i)"
      ],
      "metadata": {
        "id": "IFuN61wQuxNT"
      },
      "execution_count": null,
      "outputs": []
    },
    {
      "cell_type": "code",
      "source": [
        "i = np.ones([200,200,3])*200\n",
        "cv2.line(i,(0,0),(200,200),(0,0,255),2)\n",
        "cv2.line(i,(200,0),(0,200),(222,0,255),2)\n",
        "cv2.circle(i,(100,100),75,(255,0,0),2)\n",
        "cv2.line(i,(100,0),(100,200),(255,255,69),2)\n",
        "cv2.circle(i,(50,50),50,(69,96,96),)\n",
        "cv2.rectangle(i,(20,20),(180,180),(100,200,0),2)\n",
        "cv2_imshow(i)"
      ],
      "metadata": {
        "id": "8PV4gplNx3lz"
      },
      "execution_count": null,
      "outputs": []
    },
    {
      "cell_type": "code",
      "source": [
        "i = np.ones([200,200,3])*200\n",
        "cv2.line(i,(0,0),(200,200),(0,0,255),2)\n",
        "cv2.line(i,(200,0),(0,200),(242,0,255),2)\n",
        "cv2.circle(i,(100,100),75,(255,0,0),2)\n",
        "cv2.line(i,(100,0),(100,200),(255,255,69),2)\n",
        "cv2.circle(i,(50,50),50,(69,96,96),)\n",
        "cv2.rectangle(i,(20,20),(110,180),(100,200,0),2)\n",
        "cv2_imshow(i)"
      ],
      "metadata": {
        "id": "3kZwCA_NyTYr",
        "colab": {
          "base_uri": "https://localhost:8080/",
          "height": 217
        },
        "outputId": "b0d005a1-fd14-4439-e282-d5640a6495c2"
      },
      "execution_count": 5,
      "outputs": [
        {
          "output_type": "display_data",
          "data": {
            "text/plain": [
              "<PIL.Image.Image image mode=RGB size=200x200>"
            ],
            "image/png": "[encoded data removed]",
            "image/jpeg": "[encoded data removed]"
          },
          "metadata": {}
        }
      ]
    }
  ]
}